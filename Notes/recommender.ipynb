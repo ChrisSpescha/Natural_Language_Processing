{
 "cells": [
  {
   "cell_type": "code",
   "execution_count": 12,
   "id": "bcc03387-6ea6-47c6-a998-e78647ebba53",
   "metadata": {},
   "outputs": [],
   "source": [
    "import pandas as pd\n",
    "from rake_nltk import Rake\n",
    "import numpy as np\n",
    "from sklearn.metrics.pairwise import cosine_similarity\n",
    "from sklearn.feature_extraction.text import CountVectorizer\n",
    "\n",
    "df = pd.read_csv('https://query.data.world/s/uikepcpffyo2nhig52xxeevdialfl7')\n",
    "\n",
    "df = df[['Title','Genre','Director','Actors','Plot']]"
   ]
  },
  {
   "cell_type": "code",
   "execution_count": 13,
   "id": "f05834df-5f16-4c23-826e-6add142cb553",
   "metadata": {
    "collapsed": true,
    "jupyter": {
     "outputs_hidden": true
    },
    "tags": []
   },
   "outputs": [
    {
     "name": "stderr",
     "output_type": "stream",
     "text": [
      "[nltk_data] Downloading package stopwords to /home/jovyan/nltk_data...\n",
      "[nltk_data]   Unzipping corpora/stopwords.zip.\n"
     ]
    },
    {
     "data": {
      "text/plain": [
       "True"
      ]
     },
     "execution_count": 13,
     "metadata": {},
     "output_type": "execute_result"
    }
   ],
   "source": [
    "import nltk\n",
    "nltk.download('stopwords')"
   ]
  },
  {
   "cell_type": "code",
   "execution_count": 14,
   "id": "857daaa1-5986-4eb0-a0e1-aecd2fd5f774",
   "metadata": {},
   "outputs": [
    {
     "data": {
      "text/html": [
       "<div>\n",
       "<style scoped>\n",
       "    .dataframe tbody tr th:only-of-type {\n",
       "        vertical-align: middle;\n",
       "    }\n",
       "\n",
       "    .dataframe tbody tr th {\n",
       "        vertical-align: top;\n",
       "    }\n",
       "\n",
       "    .dataframe thead th {\n",
       "        text-align: right;\n",
       "    }\n",
       "</style>\n",
       "<table border=\"1\" class=\"dataframe\">\n",
       "  <thead>\n",
       "    <tr style=\"text-align: right;\">\n",
       "      <th></th>\n",
       "      <th>Title</th>\n",
       "      <th>Genre</th>\n",
       "      <th>Director</th>\n",
       "      <th>Actors</th>\n",
       "      <th>Plot</th>\n",
       "    </tr>\n",
       "  </thead>\n",
       "  <tbody>\n",
       "    <tr>\n",
       "      <th>0</th>\n",
       "      <td>The Shawshank Redemption</td>\n",
       "      <td>Crime, Drama</td>\n",
       "      <td>Frank Darabont</td>\n",
       "      <td>Tim Robbins, Morgan Freeman, Bob Gunton, Willi...</td>\n",
       "      <td>Two imprisoned men bond over a number of years...</td>\n",
       "    </tr>\n",
       "    <tr>\n",
       "      <th>1</th>\n",
       "      <td>The Godfather</td>\n",
       "      <td>Crime, Drama</td>\n",
       "      <td>Francis Ford Coppola</td>\n",
       "      <td>Marlon Brando, Al Pacino, James Caan, Richard ...</td>\n",
       "      <td>The aging patriarch of an organized crime dyna...</td>\n",
       "    </tr>\n",
       "  </tbody>\n",
       "</table>\n",
       "</div>"
      ],
      "text/plain": [
       "                      Title         Genre              Director  \\\n",
       "0  The Shawshank Redemption  Crime, Drama        Frank Darabont   \n",
       "1             The Godfather  Crime, Drama  Francis Ford Coppola   \n",
       "\n",
       "                                              Actors  \\\n",
       "0  Tim Robbins, Morgan Freeman, Bob Gunton, Willi...   \n",
       "1  Marlon Brando, Al Pacino, James Caan, Richard ...   \n",
       "\n",
       "                                                Plot  \n",
       "0  Two imprisoned men bond over a number of years...  \n",
       "1  The aging patriarch of an organized crime dyna...  "
      ]
     },
     "execution_count": 14,
     "metadata": {},
     "output_type": "execute_result"
    }
   ],
   "source": [
    "df.head(2)"
   ]
  },
  {
   "cell_type": "code",
   "execution_count": 17,
   "id": "57fd05ea-48cf-4540-a30d-df87130365b3",
   "metadata": {},
   "outputs": [],
   "source": [
    "# initializing the new columns\n",
    "df['Key_words'] = \"\"\n",
    "\n",
    "for index, row in df.iterrows():\n",
    "    plot = row['Plot']\n",
    "    \n",
    "    # instantiating Rake, by default it uses english stopwords from NLTK\n",
    "    # and discards all puntuation characters as well\n",
    "    r = Rake()\n",
    "\n",
    "    # extracting the words by passing the text\n",
    "    r.extract_keywords_from_text(plot)\n",
    "\n",
    "    # getting the dictionary whith key words as keys and their scores as values\n",
    "    key_words_dict_scores = r.get_word_degrees()\n",
    "    \n",
    "    # assigning the key words to the new column for the corresponding movie\n",
    "    row['Key_words'] = list(key_words_dict_scores.keys())\n",
    "\n",
    "# dropping the Plot column\n",
    "df.drop(columns = ['Plot'], inplace = True)"
   ]
  },
  {
   "cell_type": "code",
   "execution_count": 23,
   "id": "70cc3712-ee3b-44cd-b2df-ddd373f7672b",
   "metadata": {},
   "outputs": [],
   "source": [
    "df['Director'] = df['Director'].str.lower()\n",
    "df['Director'] = df['Director'].str.replace(' ', '')"
   ]
  },
  {
   "cell_type": "code",
   "execution_count": 29,
   "id": "a82c2a15-d011-40cd-a973-af3095698869",
   "metadata": {},
   "outputs": [],
   "source": [
    "df['Actors'] = df['Actors'].str.lower()\n",
    "df['Actors'] = df['Actors'].str.replace(' ', '')\n",
    "df['Actors'] = df['Actors'].str.replace(',', ' ')"
   ]
  },
  {
   "cell_type": "code",
   "execution_count": 37,
   "id": "ddd87738-212c-4fed-8098-c9e5413b6d05",
   "metadata": {},
   "outputs": [],
   "source": [
    "df['Genre'] = df['Genre'].str.lower()\n",
    "df['Genre'] = df['Genre'].str.replace(',', '')"
   ]
  },
  {
   "cell_type": "code",
   "execution_count": 45,
   "id": "83004f69-f0a4-4a06-9253-7d1f44a90eda",
   "metadata": {},
   "outputs": [
    {
     "data": {
      "text/html": [
       "<div>\n",
       "<style scoped>\n",
       "    .dataframe tbody tr th:only-of-type {\n",
       "        vertical-align: middle;\n",
       "    }\n",
       "\n",
       "    .dataframe tbody tr th {\n",
       "        vertical-align: top;\n",
       "    }\n",
       "\n",
       "    .dataframe thead th {\n",
       "        text-align: right;\n",
       "    }\n",
       "</style>\n",
       "<table border=\"1\" class=\"dataframe\">\n",
       "  <thead>\n",
       "    <tr style=\"text-align: right;\">\n",
       "      <th></th>\n",
       "      <th>Title</th>\n",
       "      <th>Genre</th>\n",
       "      <th>Director</th>\n",
       "      <th>Actors</th>\n",
       "      <th>Key_words</th>\n",
       "      <th>bag_of_words</th>\n",
       "    </tr>\n",
       "  </thead>\n",
       "  <tbody>\n",
       "    <tr>\n",
       "      <th>0</th>\n",
       "      <td>The Shawshank Redemption</td>\n",
       "      <td>crime drama</td>\n",
       "      <td>frankdarabont</td>\n",
       "      <td>timrobbins morganfreeman bobgunton williamsadler</td>\n",
       "      <td>[two, imprisoned, men, bond, number, years, fi...</td>\n",
       "      <td>crime drama frankdarabont timrobbins morganfre...</td>\n",
       "    </tr>\n",
       "    <tr>\n",
       "      <th>1</th>\n",
       "      <td>The Godfather</td>\n",
       "      <td>crime drama</td>\n",
       "      <td>francisfordcoppola</td>\n",
       "      <td>marlonbrando alpacino jamescaan richards.caste...</td>\n",
       "      <td>[aging, patriarch, organized, crime, dynasty, ...</td>\n",
       "      <td>crime drama francisfordcoppola marlonbrando al...</td>\n",
       "    </tr>\n",
       "  </tbody>\n",
       "</table>\n",
       "</div>"
      ],
      "text/plain": [
       "                      Title        Genre            Director  \\\n",
       "0  The Shawshank Redemption  crime drama       frankdarabont   \n",
       "1             The Godfather  crime drama  francisfordcoppola   \n",
       "\n",
       "                                              Actors  \\\n",
       "0   timrobbins morganfreeman bobgunton williamsadler   \n",
       "1  marlonbrando alpacino jamescaan richards.caste...   \n",
       "\n",
       "                                           Key_words  \\\n",
       "0  [two, imprisoned, men, bond, number, years, fi...   \n",
       "1  [aging, patriarch, organized, crime, dynasty, ...   \n",
       "\n",
       "                                        bag_of_words  \n",
       "0  crime drama frankdarabont timrobbins morganfre...  \n",
       "1  crime drama francisfordcoppola marlonbrando al...  "
      ]
     },
     "execution_count": 45,
     "metadata": {},
     "output_type": "execute_result"
    }
   ],
   "source": [
    "df.head(2)"
   ]
  },
  {
   "cell_type": "code",
   "execution_count": 65,
   "id": "6f3994e7-e85b-47dd-a4ce-7d62fa94f62b",
   "metadata": {},
   "outputs": [],
   "source": [
    "def list_to_str(word_list):\n",
    "    string = ''\n",
    "    for i in word_list:\n",
    "        string += i + ' '\n",
    "    return string"
   ]
  },
  {
   "cell_type": "code",
   "execution_count": 68,
   "id": "8cffe0a5-a6da-407a-a49d-8d42f328d9ae",
   "metadata": {},
   "outputs": [],
   "source": [
    "df['Key_words'] = df.Key_words.apply(list_to_str)"
   ]
  },
  {
   "cell_type": "code",
   "execution_count": 73,
   "id": "399e3ab9-4695-469e-8afa-e43697fa5c68",
   "metadata": {},
   "outputs": [],
   "source": [
    "df['bag_of_words'] = df.Genre + ' ' + df.Director + ' ' + df.Actors  + ' ' + df.Key_words"
   ]
  },
  {
   "cell_type": "code",
   "execution_count": 78,
   "id": "dfbe1cfc-7e6a-44a7-b89a-d2f6c09e2124",
   "metadata": {},
   "outputs": [],
   "source": [
    "df = df[['Title', 'bag_of_words']]"
   ]
  },
  {
   "cell_type": "code",
   "execution_count": 81,
   "id": "043056be-54c8-4cff-a8e5-55e380bcfcd2",
   "metadata": {},
   "outputs": [
    {
     "data": {
      "text/html": [
       "<div>\n",
       "<style scoped>\n",
       "    .dataframe tbody tr th:only-of-type {\n",
       "        vertical-align: middle;\n",
       "    }\n",
       "\n",
       "    .dataframe tbody tr th {\n",
       "        vertical-align: top;\n",
       "    }\n",
       "\n",
       "    .dataframe thead th {\n",
       "        text-align: right;\n",
       "    }\n",
       "</style>\n",
       "<table border=\"1\" class=\"dataframe\">\n",
       "  <thead>\n",
       "    <tr style=\"text-align: right;\">\n",
       "      <th></th>\n",
       "      <th>Title</th>\n",
       "      <th>bag_of_words</th>\n",
       "    </tr>\n",
       "  </thead>\n",
       "  <tbody>\n",
       "    <tr>\n",
       "      <th>0</th>\n",
       "      <td>The Shawshank Redemption</td>\n",
       "      <td>crime drama frankdarabont timrobbins morganfre...</td>\n",
       "    </tr>\n",
       "    <tr>\n",
       "      <th>1</th>\n",
       "      <td>The Godfather</td>\n",
       "      <td>crime drama francisfordcoppola marlonbrando al...</td>\n",
       "    </tr>\n",
       "  </tbody>\n",
       "</table>\n",
       "</div>"
      ],
      "text/plain": [
       "                      Title                                       bag_of_words\n",
       "0  The Shawshank Redemption  crime drama frankdarabont timrobbins morganfre...\n",
       "1             The Godfather  crime drama francisfordcoppola marlonbrando al..."
      ]
     },
     "execution_count": 87,
     "metadata": {},
     "output_type": "execute_result"
    }
   ],
   "source": [
    "df.head(2)"
   ]
  },
  {
   "cell_type": "code",
   "execution_count": 90,
   "id": "6b94c1eb-0000-44c2-ae97-bff3a3300a07",
   "metadata": {},
   "outputs": [],
   "source": [
    "# instantiating and generating the count matrix\n",
    "count = CountVectorizer()\n",
    "count_matrix = count.fit_transform(df['bag_of_words'])\n",
    "\n",
    "# generating the cosine similarity matrix\n",
    "cosine_sim = cosine_similarity(count_matrix, count_matrix)"
   ]
  },
  {
   "cell_type": "code",
   "execution_count": 99,
   "id": "4816847b-817c-4805-aad6-2dfa4c8d0219",
   "metadata": {},
   "outputs": [],
   "source": [
    "indices = pd.Series(df.Title)"
   ]
  },
  {
   "cell_type": "code",
   "execution_count": 100,
   "id": "2c187105-4baf-4653-9f4b-40e2ebfca850",
   "metadata": {},
   "outputs": [
    {
     "data": {
      "text/plain": [
       "0      The Shawshank Redemption\n",
       "1                 The Godfather\n",
       "2        The Godfather: Part II\n",
       "3               The Dark Knight\n",
       "4                  12 Angry Men\n",
       "                 ...           \n",
       "245            The Lost Weekend\n",
       "246               Short Term 12\n",
       "247             His Girl Friday\n",
       "248          The Straight Story\n",
       "249         Slumdog Millionaire\n",
       "Name: Title, Length: 250, dtype: object"
      ]
     },
     "execution_count": 100,
     "metadata": {},
     "output_type": "execute_result"
    }
   ],
   "source": [
    "indices"
   ]
  },
  {
   "cell_type": "code",
   "execution_count": 106,
   "id": "cc13f384-46cc-482b-bf41-ad798e31b27f",
   "metadata": {},
   "outputs": [],
   "source": [
    "\n",
    "\n",
    "#  defining the function that takes in movie title \n",
    "# as input and returns the top 10 recommended movies\n",
    "def recommendations(title, cosine_sim = cosine_sim):\n",
    "    \n",
    "    # initializing the empty list of recommended movies\n",
    "    recommended_movies = []\n",
    "    \n",
    "    # gettin the index of the movie that matches the title\n",
    "    idx = indices[indices == title].index[0]\n",
    "\n",
    "    # creating a Series with the similarity scores in descending order\n",
    "    score_series = pd.Series(cosine_sim[idx]).sort_values(ascending = False)\n",
    "\n",
    "    # getting the indexes of the 10 most similar movies\n",
    "    top_10_indexes = list(score_series.iloc[1:11].index)\n",
    "    \n",
    "    # populating the list with the titles of the best 10 matching movies\n",
    "    for i in top_10_indexes:\n",
    "        recommended_movies.append(list(df.Title)[i])\n",
    "        \n",
    "    return recommended_movies"
   ]
  },
  {
   "cell_type": "code",
   "execution_count": 107,
   "id": "d648cc48-ceb4-41a6-96ce-c20573ab6b88",
   "metadata": {},
   "outputs": [
    {
     "data": {
      "text/plain": [
       "['No Country for Old Men',\n",
       " 'The Departed',\n",
       " 'Rope',\n",
       " 'The Big Lebowski',\n",
       " 'Reservoir Dogs',\n",
       " 'The Godfather',\n",
       " 'The Godfather: Part II',\n",
       " 'On the Waterfront',\n",
       " 'Goodfellas',\n",
       " 'Arsenic and Old Lace']"
      ]
     },
     "execution_count": 107,
     "metadata": {},
     "output_type": "execute_result"
    }
   ],
   "source": [
    "recommendations('Fargo')"
   ]
  }
 ],
 "metadata": {
  "kernelspec": {
   "display_name": "Python 3 (ipykernel)",
   "language": "python",
   "name": "python3"
  },
  "language_info": {
   "codemirror_mode": {
    "name": "ipython",
    "version": 3
   },
   "file_extension": ".py",
   "mimetype": "text/x-python",
   "name": "python",
   "nbconvert_exporter": "python",
   "pygments_lexer": "ipython3",
   "version": "3.10.8"
  }
 },
 "nbformat": 4,
 "nbformat_minor": 5
}
