{
 "cells": [
  {
   "cell_type": "code",
   "execution_count": 3,
   "id": "7d93abd4-857e-4828-927e-4af0fdd3330a",
   "metadata": {},
   "outputs": [],
   "source": [
    "import pandas as pd\n",
    "# from rake_nltk import Rake\n",
    "import numpy as np\n",
    "from sklearn.metrics.pairwise import cosine_similarity\n",
    "from sklearn.feature_extraction.text import CountVectorizer\n",
    "\n",
    "df = pd.read_excel('Online Retail.xlsx')"
   ]
  },
  {
   "cell_type": "code",
   "execution_count": 4,
   "id": "6d03e1e2-14fd-4c12-ad50-b237e126184a",
   "metadata": {},
   "outputs": [],
   "source": [
    "from sklearn.model_selection import train_test_split"
   ]
  },
  {
   "cell_type": "code",
   "execution_count": 5,
   "id": "4248cf53-6755-48fd-84ee-ee38e08f12d5",
   "metadata": {},
   "outputs": [],
   "source": [
    "import seaborn as sns \n",
    "import matplotlib.pyplot as plt"
   ]
  },
  {
   "cell_type": "code",
   "execution_count": 6,
   "id": "b654a8b2-0030-44f1-a458-6995ee4b82f0",
   "metadata": {},
   "outputs": [],
   "source": [
    "df.dropna(inplace=True)"
   ]
  },
  {
   "cell_type": "code",
   "execution_count": 7,
   "id": "89257b97-863d-4fe8-9d27-bb6a53ea4f9f",
   "metadata": {},
   "outputs": [],
   "source": [
    "sub = df.sample(n=10000, random_state=1)"
   ]
  },
  {
   "cell_type": "code",
   "execution_count": 8,
   "id": "4d2832a0-758e-43b4-b809-4ba738663320",
   "metadata": {},
   "outputs": [
    {
     "data": {
      "text/html": [
       "<div>\n",
       "<style scoped>\n",
       "    .dataframe tbody tr th:only-of-type {\n",
       "        vertical-align: middle;\n",
       "    }\n",
       "\n",
       "    .dataframe tbody tr th {\n",
       "        vertical-align: top;\n",
       "    }\n",
       "\n",
       "    .dataframe thead th {\n",
       "        text-align: right;\n",
       "    }\n",
       "</style>\n",
       "<table border=\"1\" class=\"dataframe\">\n",
       "  <thead>\n",
       "    <tr style=\"text-align: right;\">\n",
       "      <th></th>\n",
       "      <th>InvoiceNo</th>\n",
       "      <th>StockCode</th>\n",
       "      <th>Description</th>\n",
       "      <th>Quantity</th>\n",
       "      <th>InvoiceDate</th>\n",
       "      <th>UnitPrice</th>\n",
       "      <th>CustomerID</th>\n",
       "      <th>Country</th>\n",
       "    </tr>\n",
       "  </thead>\n",
       "  <tbody>\n",
       "    <tr>\n",
       "      <th>443133</th>\n",
       "      <td>574691</td>\n",
       "      <td>22341</td>\n",
       "      <td>LOVE GARLAND PAINTED ZINC</td>\n",
       "      <td>3</td>\n",
       "      <td>2011-11-06 13:17:00</td>\n",
       "      <td>1.65</td>\n",
       "      <td>14174.0</td>\n",
       "      <td>United Kingdom</td>\n",
       "    </tr>\n",
       "    <tr>\n",
       "      <th>415129</th>\n",
       "      <td>572517</td>\n",
       "      <td>22562</td>\n",
       "      <td>MONSTERS STENCIL CRAFT</td>\n",
       "      <td>2</td>\n",
       "      <td>2011-10-24 14:47:00</td>\n",
       "      <td>1.25</td>\n",
       "      <td>15068.0</td>\n",
       "      <td>United Kingdom</td>\n",
       "    </tr>\n",
       "  </tbody>\n",
       "</table>\n",
       "</div>"
      ],
      "text/plain": [
       "       InvoiceNo StockCode                 Description  Quantity  \\\n",
       "443133    574691     22341  LOVE GARLAND PAINTED ZINC          3   \n",
       "415129    572517     22562      MONSTERS STENCIL CRAFT         2   \n",
       "\n",
       "               InvoiceDate  UnitPrice  CustomerID         Country  \n",
       "443133 2011-11-06 13:17:00       1.65     14174.0  United Kingdom  \n",
       "415129 2011-10-24 14:47:00       1.25     15068.0  United Kingdom  "
      ]
     },
     "execution_count": 8,
     "metadata": {},
     "output_type": "execute_result"
    }
   ],
   "source": [
    "sub.head(2)"
   ]
  },
  {
   "cell_type": "code",
   "execution_count": 9,
   "id": "8a5a1d4b-fcd9-493e-9266-5cf3bb96cd21",
   "metadata": {
    "jupyter": {
     "source_hidden": true
    },
    "tags": []
   },
   "outputs": [],
   "source": [
    "thing = sub.groupby(['CustomerID', 'StockCode'], as_index=False).count()"
   ]
  },
  {
   "cell_type": "code",
   "execution_count": 10,
   "id": "a3ece099-9c03-4be4-a46d-a335ead16d28",
   "metadata": {},
   "outputs": [],
   "source": [
    "grouped_index = df.groupby(['CustomerID', 'StockCode'], as_index=False).size()"
   ]
  },
  {
   "cell_type": "code",
   "execution_count": 11,
   "id": "2ecc0e5f-e8dd-4950-a83e-35165843cb3c",
   "metadata": {},
   "outputs": [],
   "source": [
    "grouped_index['StockCode'] = grouped_index['StockCode'].astype(str)"
   ]
  },
  {
   "cell_type": "code",
   "execution_count": 12,
   "id": "5276c25c-2a7c-4de6-bc65-203094eed7c6",
   "metadata": {},
   "outputs": [],
   "source": [
    "grouped_index['StockCode'] += ' '"
   ]
  },
  {
   "cell_type": "code",
   "execution_count": 13,
   "id": "4449a155-dcad-4499-b8b7-f0ae46198b9b",
   "metadata": {},
   "outputs": [],
   "source": [
    "final = grouped_index.groupby(['CustomerID'], as_index=False)['StockCode'].sum()"
   ]
  },
  {
   "cell_type": "code",
   "execution_count": 14,
   "id": "5564a9fe-c2be-47ab-9f5a-955eb1d37295",
   "metadata": {},
   "outputs": [
    {
     "data": {
      "text/html": [
       "<div>\n",
       "<style scoped>\n",
       "    .dataframe tbody tr th:only-of-type {\n",
       "        vertical-align: middle;\n",
       "    }\n",
       "\n",
       "    .dataframe tbody tr th {\n",
       "        vertical-align: top;\n",
       "    }\n",
       "\n",
       "    .dataframe thead th {\n",
       "        text-align: right;\n",
       "    }\n",
       "</style>\n",
       "<table border=\"1\" class=\"dataframe\">\n",
       "  <thead>\n",
       "    <tr style=\"text-align: right;\">\n",
       "      <th></th>\n",
       "      <th>CustomerID</th>\n",
       "      <th>StockCode</th>\n",
       "    </tr>\n",
       "  </thead>\n",
       "  <tbody>\n",
       "    <tr>\n",
       "      <th>0</th>\n",
       "      <td>12346.0</td>\n",
       "      <td>23166</td>\n",
       "    </tr>\n",
       "    <tr>\n",
       "      <th>1</th>\n",
       "      <td>12347.0</td>\n",
       "      <td>16008 17021 20665 20719 20780 20782 20966 2103...</td>\n",
       "    </tr>\n",
       "  </tbody>\n",
       "</table>\n",
       "</div>"
      ],
      "text/plain": [
       "   CustomerID                                          StockCode\n",
       "0     12346.0                                             23166 \n",
       "1     12347.0  16008 17021 20665 20719 20780 20782 20966 2103..."
      ]
     },
     "execution_count": 14,
     "metadata": {},
     "output_type": "execute_result"
    }
   ],
   "source": [
    "final.head(2)"
   ]
  },
  {
   "cell_type": "code",
   "execution_count": 15,
   "id": "be444f77-6248-4198-b7ea-e8a08c01a112",
   "metadata": {},
   "outputs": [],
   "source": [
    "def tokenize(text):\n",
    "    tokens = text.split()\n",
    "    return tokens"
   ]
  },
  {
   "cell_type": "code",
   "execution_count": 16,
   "id": "8e5f8de8-38ba-4a0f-92f8-2007e8d6c5e6",
   "metadata": {},
   "outputs": [],
   "source": [
    "final['StockCode'] = final['StockCode'].apply(lambda x: tokenize(x))"
   ]
  },
  {
   "cell_type": "code",
   "execution_count": 17,
   "id": "93f3467d-4ccc-476c-84ee-f4f131592b37",
   "metadata": {},
   "outputs": [
    {
     "data": {
      "text/html": [
       "<div>\n",
       "<style scoped>\n",
       "    .dataframe tbody tr th:only-of-type {\n",
       "        vertical-align: middle;\n",
       "    }\n",
       "\n",
       "    .dataframe tbody tr th {\n",
       "        vertical-align: top;\n",
       "    }\n",
       "\n",
       "    .dataframe thead th {\n",
       "        text-align: right;\n",
       "    }\n",
       "</style>\n",
       "<table border=\"1\" class=\"dataframe\">\n",
       "  <thead>\n",
       "    <tr style=\"text-align: right;\">\n",
       "      <th></th>\n",
       "      <th>CustomerID</th>\n",
       "      <th>StockCode</th>\n",
       "    </tr>\n",
       "  </thead>\n",
       "  <tbody>\n",
       "    <tr>\n",
       "      <th>0</th>\n",
       "      <td>12346.0</td>\n",
       "      <td>[23166]</td>\n",
       "    </tr>\n",
       "    <tr>\n",
       "      <th>1</th>\n",
       "      <td>12347.0</td>\n",
       "      <td>[16008, 17021, 20665, 20719, 20780, 20782, 209...</td>\n",
       "    </tr>\n",
       "    <tr>\n",
       "      <th>2</th>\n",
       "      <td>12348.0</td>\n",
       "      <td>[21211, 21213, 21725, 21726, 21967, 21977, 219...</td>\n",
       "    </tr>\n",
       "    <tr>\n",
       "      <th>3</th>\n",
       "      <td>12349.0</td>\n",
       "      <td>[20685, 20914, 21086, 21136, 21231, 21232, 214...</td>\n",
       "    </tr>\n",
       "    <tr>\n",
       "      <th>4</th>\n",
       "      <td>12350.0</td>\n",
       "      <td>[20615, 20652, 21171, 21832, 21864, 21866, 219...</td>\n",
       "    </tr>\n",
       "    <tr>\n",
       "      <th>...</th>\n",
       "      <td>...</td>\n",
       "      <td>...</td>\n",
       "    </tr>\n",
       "    <tr>\n",
       "      <th>4367</th>\n",
       "      <td>18280.0</td>\n",
       "      <td>[22084, 22180, 22358, 22467, 22495, 22499, 226...</td>\n",
       "    </tr>\n",
       "    <tr>\n",
       "      <th>4368</th>\n",
       "      <td>18281.0</td>\n",
       "      <td>[22028, 22037, 22467, 22716, 23007, 23008, 23209]</td>\n",
       "    </tr>\n",
       "    <tr>\n",
       "      <th>4369</th>\n",
       "      <td>18282.0</td>\n",
       "      <td>[21108, 21109, 21270, 22089, 22423, 22424, 226...</td>\n",
       "    </tr>\n",
       "    <tr>\n",
       "      <th>4370</th>\n",
       "      <td>18283.0</td>\n",
       "      <td>[20676, 20712, 20717, 20718, 20719, 20723, 207...</td>\n",
       "    </tr>\n",
       "    <tr>\n",
       "      <th>4371</th>\n",
       "      <td>18287.0</td>\n",
       "      <td>[20961, 20963, 21014, 21232, 21382, 21481, 215...</td>\n",
       "    </tr>\n",
       "  </tbody>\n",
       "</table>\n",
       "<p>4372 rows × 2 columns</p>\n",
       "</div>"
      ],
      "text/plain": [
       "      CustomerID                                          StockCode\n",
       "0        12346.0                                            [23166]\n",
       "1        12347.0  [16008, 17021, 20665, 20719, 20780, 20782, 209...\n",
       "2        12348.0  [21211, 21213, 21725, 21726, 21967, 21977, 219...\n",
       "3        12349.0  [20685, 20914, 21086, 21136, 21231, 21232, 214...\n",
       "4        12350.0  [20615, 20652, 21171, 21832, 21864, 21866, 219...\n",
       "...          ...                                                ...\n",
       "4367     18280.0  [22084, 22180, 22358, 22467, 22495, 22499, 226...\n",
       "4368     18281.0  [22028, 22037, 22467, 22716, 23007, 23008, 23209]\n",
       "4369     18282.0  [21108, 21109, 21270, 22089, 22423, 22424, 226...\n",
       "4370     18283.0  [20676, 20712, 20717, 20718, 20719, 20723, 207...\n",
       "4371     18287.0  [20961, 20963, 21014, 21232, 21382, 21481, 215...\n",
       "\n",
       "[4372 rows x 2 columns]"
      ]
     },
     "execution_count": 17,
     "metadata": {},
     "output_type": "execute_result"
    }
   ],
   "source": [
    "final"
   ]
  },
  {
   "cell_type": "markdown",
   "id": "70229196-59ec-45d2-8821-3553d9fce5aa",
   "metadata": {},
   "source": [
    "Build Word2Vec"
   ]
  },
  {
   "cell_type": "code",
   "execution_count": 18,
   "id": "75a14d47-7df5-4624-ac17-695b11e3715b",
   "metadata": {},
   "outputs": [],
   "source": [
    "def create_unique_word_dict(text:list) -> dict:\n",
    "    \"\"\"\n",
    "    A method that creates a dictionary where the keys are unique words\n",
    "    and key values are indices\n",
    "    \"\"\"\n",
    "    # Getting all the unique words from our text and sorting them alphabetically\n",
    "    words = list(set(text))\n",
    "    words.sort()\n",
    "\n",
    "    # Creating the dictionary for the unique words\n",
    "    unique_word_dict = {}\n",
    "    for i, word in enumerate(words):\n",
    "        unique_word_dict.update({\n",
    "            word: i\n",
    "        })\n",
    "\n",
    "    return unique_word_dict "
   ]
  },
  {
   "cell_type": "code",
   "execution_count": null,
   "id": "d67538de-a49b-405d-9b20-b638aaeec87c",
   "metadata": {},
   "outputs": [],
   "source": [
    "from scipy import sparse\n",
    "import numpy as np\n",
    "\n",
    "# Defining the number of features (unique words)\n",
    "n_words = len(unique_word_dict)\n",
    "\n",
    "# Getting all the unique words \n",
    "words = list(unique_word_dict.keys())\n",
    "\n",
    "# Creating the X and Y matrices using one hot encoding\n",
    "X = []\n",
    "Y = []\n",
    "\n",
    "for i, word_list in tqdm(enumerate(word_lists)):\n",
    "    # Getting the indices\n",
    "    main_word_index = unique_word_dict.get(word_list[0])\n",
    "    context_word_index = unique_word_dict.get(word_list[1])\n",
    "\n",
    "    # Creating the placeholders   \n",
    "    X_row = np.zeros(n_words)\n",
    "    Y_row = np.zeros(n_words)\n",
    "\n",
    "    # One hot encoding the main word\n",
    "    X_row[main_word_index] = 1\n",
    "\n",
    "    # One hot encoding the Y matrix words \n",
    "    Y_row[context_word_index] = 1\n",
    "\n",
    "    # Appending to the main matrices\n",
    "    X.append(X_row)\n",
    "    Y.append(Y_row)\n",
    "\n",
    "# Converting the matrices into an array\n",
    "X = np.asarray(X)\n",
    "Y = np.asarray(Y)"
   ]
  },
  {
   "cell_type": "code",
   "execution_count": null,
   "id": "d242ecdf-2d16-418d-b83d-e5030fc13257",
   "metadata": {},
   "outputs": [],
   "source": [
    "# Deep learning: \n",
    "from tensorflow.keras.models import Model\n",
    "\n",
    "from tensorflow.keras.layers import Input\n",
    "from tensorflow.keras.layers import Dense\n",
    "\n",
    "# Defining the size of the embedding\n",
    "embed_size = 2\n",
    "\n",
    "# Defining the neural network\n",
    "inp = Input(shape=(X.shape[1],))\n",
    "x = Dense(units=embed_size, activation='linear')(inp)\n",
    "x = Dense(units=Y.shape[1], activation='softmax')(x)\n",
    "model = Model(inputs=inp, outputs=x)\n",
    "model.compile(loss = 'categorical_crossentropy', optimizer = 'adam')\n",
    "\n",
    "# Optimizing the network weights\n",
    "model.fit(\n",
    "    x=X, \n",
    "    y=Y, \n",
    "    batch_size=256,\n",
    "    epochs=1000\n",
    "    )\n",
    "\n",
    "# Obtaining the weights from the neural network. \n",
    "# These are the so called word embeddings\n",
    "\n",
    "# The input layer \n",
    "weights = model.get_weights()[0]\n",
    "\n",
    "# Creating a dictionary to store the embeddings in. The key is a unique word and \n",
    "# the value is the numeric vector\n",
    "embedding_dict = {}\n",
    "for word in words: \n",
    "    embedding_dict.update({\n",
    "        word: weights[unique_word_dict.get(word)]\n",
    "        })"
   ]
  }
 ],
 "metadata": {
  "kernelspec": {
   "display_name": "Python 3 (ipykernel)",
   "language": "python",
   "name": "python3"
  },
  "language_info": {
   "codemirror_mode": {
    "name": "ipython",
    "version": 3
   },
   "file_extension": ".py",
   "mimetype": "text/x-python",
   "name": "python",
   "nbconvert_exporter": "python",
   "pygments_lexer": "ipython3",
   "version": "3.9.13"
  }
 },
 "nbformat": 4,
 "nbformat_minor": 5
}
